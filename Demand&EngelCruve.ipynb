{
 "cells": [
  {
   "cell_type": "code",
   "execution_count": null,
   "metadata": {},
   "outputs": [],
   "source": [
    "!pip install --upgrade pip\n",
    "!pip install CFEDemands --upgrade --pre\n",
    "!pip install xarray --upgrade\n",
    "!pip install h5netcdf"
   ]
  },
  {
   "cell_type": "code",
   "execution_count": null,
   "metadata": {},
   "outputs": [],
   "source": [
    "import cfe"
   ]
  },
  {
   "cell_type": "code",
   "execution_count": null,
   "metadata": {},
   "outputs": [],
   "source": [
    "r = cfe.result.from_dataset('Ethiopia_small.ds')"
   ]
  },
  {
   "cell_type": "code",
   "execution_count": null,
   "metadata": {},
   "outputs": [],
   "source": [
    "r.get_alpha(as_df=True).dropna()"
   ]
  },
  {
   "cell_type": "code",
   "execution_count": null,
   "metadata": {},
   "outputs": [],
   "source": [
    "r.get_beta(as_df=True).dropna()"
   ]
  },
  {
   "cell_type": "code",
   "execution_count": null,
   "metadata": {},
   "outputs": [],
   "source": [
    "r.delta.to_dataframe().unstack('k').dropna()"
   ]
  },
  {
   "cell_type": "code",
   "execution_count": null,
   "metadata": {},
   "outputs": [],
   "source": [
    "t = r.firstround  # First round\n",
    "m = r.coords['m'][0] # First market\n",
    "\n",
    "x = r.get_predicted_expenditures().sum('i')\n",
    "medianx = x.where(x>0).sel(t=t,m=m).median('j').values # Budget (median household)"
   ]
  },
  {
   "cell_type": "code",
   "execution_count": null,
   "metadata": {},
   "outputs": [],
   "source": [
    "xbar=r.demands(medianx) # Expenditures given median budget\n",
    "xbar"
   ]
  },
  {
   "cell_type": "code",
   "execution_count": null,
   "metadata": {},
   "outputs": [],
   "source": [
    "r.coords['u']"
   ]
  },
  {
   "cell_type": "code",
   "execution_count": null,
   "metadata": {},
   "outputs": [],
   "source": [
    "import numpy as np\n",
    "from math import log\n",
    "import pandas as pd\n",
    "import matplotlib.pyplot as plt"
   ]
  },
  {
   "cell_type": "code",
   "execution_count": 37,
   "metadata": {},
   "outputs": [
    {
     "data": {
      "text/plain": [
       "array([1.78513063, 0.89256531, 2.67769594])"
      ]
     },
     "execution_count": 37,
     "metadata": {},
     "output_type": "execute_result"
    }
   ],
   "source": [
    "foods = \"Haricot Beans\"\n",
    "ref_price = r.prices.sel(t=t,m=m,u='Kg')\n",
    "def x(n): #Price of good,n is the price scale.\n",
    "    return n*ref_price.loc[foods].values\n",
    "def y(h): #Quantity demand of good,h is the price scale, h=n.\n",
    "    return r.demands(medianx, p={foods:h})[foods]/ref_price.loc[foods].values\n",
    "np.array([y(1),0.5*y(1),1.5*y(1)])"
   ]
  },
  {
   "cell_type": "code",
   "execution_count": 38,
   "metadata": {},
   "outputs": [],
   "source": [
    "#Convert price scale to real price.\n",
    "Prices = np.array([x(0.1),x(0.15),x(0.2),x(0.25),x(0.3),x(0.35),x(0.4),x(0.45),x(0.5),x(0.55),x(0.6),x(0.65),x(0.7),x(0.75),x(0.8),x(0.85),x(0.9),x(0.95),x(1),x(1.5)])\n",
    "#Quantity demand with given price.\n",
    "D1 = np.array([y(0.1),y(0.15),y(0.2),y(0.25),y(0.3),y(0.35),y(0.4),y(0.45),y(0.5),y(0.55),y(0.6),y(0.65),y(0.7),y(0.75),y(0.8),y(0.85),y(0.9),y(0.95),y(1),y(1.5)])"
   ]
  },
  {
   "cell_type": "code",
   "execution_count": 122,
   "metadata": {},
   "outputs": [
    {
     "data": {
      "image/png": "[encoded data removed]",
      "text/plain": [
       "<Figure size 432x288 with 1 Axes>"
      ]
     },
     "metadata": {
      "needs_background": "light"
     },
     "output_type": "display_data"
    }
   ],
   "source": [
    "plt.plot(D1,Prices,color=\"navy\",alpha = 0.5)\n",
    "\n",
    "plt.annotate(\"S1\", xy = (5.5*y(1),1.01*x(1)))\n",
    "\n",
    "plt.annotate(\"D\", xy = (y(0.15),x(1)*0.2))\n",
    "\n",
    "plt.axhline(y = x(1), color = \"red\", alpha = 0.5)\n",
    "\n",
    "plt.axvline(x = y(1), color = \"black\", alpha = 0.5, linestyle = \"--\")\n",
    "\n",
    "#If we want to increase quantity demand by 50%,then\n",
    "\n",
    "NQD = (1+(0.5))*y(1)\n",
    "\n",
    "plt.axvline(x = NQD, color = \"black\", alpha = 0.5, linestyle = \"--\")\n",
    "\n",
    "plt.axhline(y = NP, color = \"Red\", alpha = 0.5)\n",
    "\n",
    "plt.annotate(\"S2\", xy = (5.5*y(1),1.01*NP))\n",
    "\n",
    "plt.xlabel(\"%s in Kgs\" % foods)\n",
    "plt.ylabel(\"Price\")\n",
    "plt.xlim([0,6*y(1)])\n",
    "plt.show()"
   ]
  },
  {
   "cell_type": "code",
   "execution_count": 123,
   "metadata": {},
   "outputs": [
    {
     "name": "stdout",
     "output_type": "stream",
     "text": [
      "The revenue of tax for Haricot Beans for a median income household in Ethiopia is 3.5372134570580687\n"
     ]
    }
   ],
   "source": [
    "#New equilibrium price \n",
    "NP = np.interp(NQD,D1[::-1],Prices[::-1])\n",
    "Cost = (x(1)-NP)*(NQD-y(1))\n",
    "if NQD > x(1):\n",
    "        print(\"The cost of subsidy for \" + foods + \" for a median income household in Ethiopia is\" ,format(Cost))\n",
    "else:\n",
    "            print(\"The revenue of tax for \" + foods + \" for a median income household in Ethiopia is\" ,format(Cost))"
   ]
  },
  {
   "cell_type": "code",
   "execution_count": 117,
   "metadata": {},
   "outputs": [
    {
     "data": {
      "image/png": "[encoded data removed]",
      "text/plain": [
       "<Figure size 432x288 with 1 Axes>"
      ]
     },
     "metadata": {
      "needs_background": "light"
     },
     "output_type": "display_data"
    }
   ],
   "source": [
    "e,g = 0.5,1.5 \n",
    "\n",
    "#e times budget.\n",
    "D2 = list(map(lambda x:x*e, D1))\n",
    "#g times budget.\n",
    "D3 = list(map(lambda x:x*g, D1))\n",
    "\n",
    "plt.plot(D1,Prices,D2,Prices,D3,Prices,color=\"navy\",alpha = 0.5)\n",
    "\n",
    "plt.annotate(\"S\", xy = (5.5*y(1),1.01*x(1)))\n",
    "\n",
    "plt.annotate(\"D1\", xy = (y(0.15),x(1)*0.2))\n",
    "plt.annotate(\"D2\", xy = (e*y(0.15),x(1)*0.2))\n",
    "plt.annotate(\"D3\", xy = (g*y(0.15),x(1)*0.2))\n",
    "\n",
    "plt.axvline(x = y(1), color = \"black\",linestyle = \"--\")\n",
    "plt.axhline(y = x(1), color = \"red\", alpha = 0.5)\n",
    "plt.axvline(x = e*y(1), color = \"black\",linestyle = \"--\")\n",
    "plt.axvline(x = g*y(1), color = \"black\",linestyle = \"--\")\n",
    "\n",
    "plt.xlabel(\"%s in Kgs\" % foods)\n",
    "plt.ylabel(\"Price\")\n",
    "plt.xlim([0,4*g*y(1)])\n",
    "plt.show()"
   ]
  },
  {
   "cell_type": "code",
   "execution_count": 104,
   "metadata": {},
   "outputs": [
    {
     "data": {
      "text/plain": [
       "[<matplotlib.lines.Line2D at 0x7f449b66fd68>]"
      ]
     },
     "execution_count": 104,
     "metadata": {},
     "output_type": "execute_result"
    },
    {
     "data": {
      "image/png": "[encoded data removed]",
      "text/plain": [
       "<Figure size 432x288 with 1 Axes>"
      ]
     },
     "metadata": {
      "needs_background": "light"
     },
     "output_type": "display_data"
    }
   ],
   "source": [
    "#Construct a Engel Curve\n",
    "BC1 = np.linspace(0,y(1),100)\n",
    "BC1_1 = np.linspace(y(1),y(1),100)\n",
    "BC2 = np.linspace(0,g*y(1),100)\n",
    "BC2_1 = np.linspace(g*y(1),g*y(1),100)\n",
    "BC3 = np.linspace(0,e*y(1),100)\n",
    "BC3_1 = np.linspace(e*y(1),e*y(1),100)\n",
    "\n",
    "\n",
    "Q1 = np.linspace(medianx,0,100)\n",
    "Q2 = np.linspace(g*medianx,0,100)\n",
    "Q3 = np.linspace(e*medianx,0,100)\n",
    "P1 = np.linspace(medianx,medianx,100)\n",
    "P2 = np.linspace(g*medianx,g*medianx,100)\n",
    "P3 = np.linspace(e*medianx,e*medianx,100)\n",
    "EC = np.linspace(0,1.5*g*y(1),100)\n",
    "P4 = np.linspace(0,1.5*g*medianx,100)\n",
    "fig, ax = plt.subplots()\n",
    "\n",
    "ax.plot([0.5*y(1),y(1),1.5*y(1)],[0.5*medianx,medianx,1.5*medianx],ls=\"\",marker=\"o\")\n",
    "\n",
    "plt.annotate(\"Engel Curve for \"+ foods, xy = (1.6*y(1),2.1*medianx))\n",
    "\n",
    "plt.xlim([0,6*y(1)])\n",
    "plt.ylim([0,1000])\n",
    "plt.xlabel(\"%s in Kgs\" % foods)\n",
    "plt.ylabel(\"Budget\")\n",
    "plt.plot(BC1,P1,\"black\",BC2,P2,\"black\",BC3,P3,\"black\",BC1_1,Q1,\"black\",BC2_1,Q2,\"black\",BC3_1,Q3,\"black\",linestyle=\"--\")\n",
    "plt.plot(EC,P4,\"darkgreen\")"
   ]
  },
  {
   "cell_type": "code",
   "execution_count": 105,
   "metadata": {},
   "outputs": [
    {
     "data": {
      "text/plain": [
       "0.3929075780677838"
      ]
     },
     "execution_count": 105,
     "metadata": {},
     "output_type": "execute_result"
    }
   ],
   "source": [
    "100*(g*y(1)-y(1))/(g*medianx-medianx)"
   ]
  },
  {
   "cell_type": "code",
   "execution_count": null,
   "metadata": {},
   "outputs": [],
   "source": []
  }
 ],
 "metadata": {
  "kernelspec": {
   "display_name": "Python 3",
   "language": "python",
   "name": "python3"
  },
  "language_info": {
   "codemirror_mode": {
    "name": "ipython",
    "version": 3
   },
   "file_extension": ".py",
   "mimetype": "text/x-python",
   "name": "python",
   "nbconvert_exporter": "python",
   "pygments_lexer": "ipython3",
   "version": "3.6.9"
  }
 },
 "nbformat": 4,
 "nbformat_minor": 4
}
